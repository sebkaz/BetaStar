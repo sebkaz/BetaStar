{
 "cells": [
  {
   "cell_type": "markdown",
   "id": "c5cbcb11-386a-4b45-b53a-c78cf3f5e383",
   "metadata": {},
   "source": [
    "# Kedro project \n",
    "- you have access to `catalog`, `context` and`session` objects"
   ]
  },
  {
   "cell_type": "code",
   "execution_count": 1,
   "id": "2bc65e27-1ce9-448e-83fc-93d95b5ffbab",
   "metadata": {},
   "outputs": [
    {
     "data": {
      "text/html": [
       "<pre style=\"white-space:pre;overflow-x:auto;line-height:normal;font-family:Menlo,'DejaVu Sans Mono',consolas,'Courier New',monospace\"></pre>\n"
      ],
      "text/plain": []
     },
     "metadata": {},
     "output_type": "display_data"
    },
    {
     "data": {
      "text/plain": [
       "\n",
       "\u001b[1m(\u001b[0m\n",
       "    \u001b[1m<\u001b[0m\u001b[1;95mkedro.framework.session.session.KedroSession\u001b[0m\u001b[39m object at \u001b[0m\u001b[1;36m0x107c70520\u001b[0m\u001b[39m>,\u001b[0m\n",
       "\u001b[39m    <kedro.io.data_catalog.DataCatalog object at \u001b[0m\u001b[1;36m0x14928c2e0\u001b[0m\u001b[39m>,\u001b[0m\n",
       "\u001b[39m    <kedro.framework.context.context.KedroContext object at \u001b[0m\u001b[1;36m0x1081b18d0\u001b[0m\u001b[1m>\u001b[0m\n",
       "\u001b[1m)\u001b[0m"
      ]
     },
     "execution_count": 1,
     "metadata": {},
     "output_type": "execute_result"
    }
   ],
   "source": [
    "session, catalog, context"
   ]
  },
  {
   "cell_type": "code",
   "execution_count": 2,
   "id": "ef896791-8aef-4ebf-8f8e-a20307e69b4e",
   "metadata": {},
   "outputs": [
    {
     "data": {
      "text/html": [
       "<pre style=\"white-space:pre;overflow-x:auto;line-height:normal;font-family:Menlo,'DejaVu Sans Mono',consolas,'Courier New',monospace\"></pre>\n"
      ],
      "text/plain": []
     },
     "metadata": {},
     "output_type": "display_data"
    },
    {
     "data": {
      "text/plain": [
       "\n",
       "\u001b[1m[\u001b[0m\n",
       "    \u001b[32m'graph'\u001b[0m,\n",
       "    \u001b[32m'data'\u001b[0m,\n",
       "    \u001b[32m'graph_pre'\u001b[0m,\n",
       "    \u001b[32m'graph_struct'\u001b[0m,\n",
       "    \u001b[32m'embedded_graph_node2vec'\u001b[0m,\n",
       "    \u001b[32m'embedded_graph_struc2vec'\u001b[0m,\n",
       "    \u001b[32m'model_data'\u001b[0m,\n",
       "    \u001b[32m'X_train_linear'\u001b[0m,\n",
       "    \u001b[32m'X_test_linear'\u001b[0m,\n",
       "    \u001b[32m'task1_predictions'\u001b[0m,\n",
       "    \u001b[32m'task1_results'\u001b[0m,\n",
       "    \u001b[32m'X_train'\u001b[0m,\n",
       "    \u001b[32m'y_train'\u001b[0m,\n",
       "    \u001b[32m'X_test'\u001b[0m,\n",
       "    \u001b[32m'y_test'\u001b[0m,\n",
       "    \u001b[32m'task2_models'\u001b[0m,\n",
       "    \u001b[32m'task2_results'\u001b[0m,\n",
       "    \u001b[32m'forest_FI'\u001b[0m,\n",
       "    \u001b[32m'models_results_pi'\u001b[0m,\n",
       "    \u001b[32m'parameters'\u001b[0m,\n",
       "    \u001b[32m'params:hyperparameters_tuning'\u001b[0m,\n",
       "    \u001b[32m'params:hyperparameters_tuning.context_params'\u001b[0m,\n",
       "    \u001b[32m'params:hyperparameters_tuning.context_params.package_name'\u001b[0m,\n",
       "    \u001b[32m'params:hyperparameters_tuning.context_params.project_path'\u001b[0m,\n",
       "    \u001b[32m'params:hyperparameters_tuning.context_params.tags'\u001b[0m,\n",
       "    \u001b[32m'params:hyperparameters_tuning.context_params.parameters_name'\u001b[0m,\n",
       "    \u001b[32m'params:hyperparameters_tuning.context_params.max_workers'\u001b[0m,\n",
       "    \u001b[32m'params:hyperparameters_tuning.tune_params'\u001b[0m,\n",
       "    \u001b[32m'params:hyperparameters_tuning.tune_params.max_evals'\u001b[0m,\n",
       "    \u001b[32m'params:hyperparameters_tuning.metrics'\u001b[0m,\n",
       "    \u001b[32m'params:hyperparameters_tuning.metrics.metrics_dict'\u001b[0m,\n",
       "    \u001b[32m'params:hyperparameters_tuning.metrics.metric_name'\u001b[0m,\n",
       "    \u001b[32m'params:env'\u001b[0m,\n",
       "    \u001b[32m'params:embeddings'\u001b[0m,\n",
       "    \u001b[32m'params:emb_prefix'\u001b[0m,\n",
       "    \u001b[32m'params:test_features'\u001b[0m,\n",
       "    \u001b[32m'params:node2vec'\u001b[0m,\n",
       "    \u001b[32m'params:node2vec.dim'\u001b[0m,\n",
       "    \u001b[32m'params:node2vec.walk_length'\u001b[0m,\n",
       "    \u001b[32m'params:node2vec.window'\u001b[0m,\n",
       "    \u001b[32m'params:node2vec.p'\u001b[0m,\n",
       "    \u001b[32m'params:node2vec.q'\u001b[0m,\n",
       "    \u001b[32m'params:node2vec.workers'\u001b[0m,\n",
       "    \u001b[32m'params:node2vec.seed'\u001b[0m,\n",
       "    \u001b[32m'params:test_size'\u001b[0m,\n",
       "    \u001b[32m'params:log_reg'\u001b[0m,\n",
       "    \u001b[32m'params:log_reg.penalty'\u001b[0m,\n",
       "    \u001b[32m'params:log_reg.C'\u001b[0m,\n",
       "    \u001b[32m'params:log_reg.class_weight'\u001b[0m,\n",
       "    \u001b[32m'params:log_reg.solver'\u001b[0m,\n",
       "    \u001b[32m'params:log_reg.max_iter'\u001b[0m,\n",
       "    \u001b[32m'params:log_reg.fit_intercept'\u001b[0m,\n",
       "    \u001b[32m'params:log_reg.random_state'\u001b[0m,\n",
       "    \u001b[32m'params:log_reg.n_jobs'\u001b[0m,\n",
       "    \u001b[32m'params:random_forest'\u001b[0m,\n",
       "    \u001b[32m'params:random_forest.n_estimators'\u001b[0m,\n",
       "    \u001b[32m'params:random_forest.criterion'\u001b[0m,\n",
       "    \u001b[32m'params:random_forest.n_jobs'\u001b[0m,\n",
       "    \u001b[32m'params:random_forest.random_state'\u001b[0m,\n",
       "    \u001b[32m'params:random_forest.max_depth'\u001b[0m,\n",
       "    \u001b[32m'params:random_forest.min_samples_split'\u001b[0m,\n",
       "    \u001b[32m'params:random_forest.min_samples_leaf'\u001b[0m,\n",
       "    \u001b[32m'params:lightgbm'\u001b[0m,\n",
       "    \u001b[32m'params:lightgbm.learning_rate'\u001b[0m,\n",
       "    \u001b[32m'params:lightgbm.objective'\u001b[0m,\n",
       "    \u001b[32m'params:lightgbm.boosting'\u001b[0m,\n",
       "    \u001b[32m'params:lightgbm.early_stopping_rounds'\u001b[0m,\n",
       "    \u001b[32m'params:lightgbm.force_col_wise'\u001b[0m,\n",
       "    \u001b[32m'params:lightgbm.metric'\u001b[0m,\n",
       "    \u001b[32m'params:lightgbm.bagging_seed'\u001b[0m,\n",
       "    \u001b[32m'params:xgboost'\u001b[0m,\n",
       "    \u001b[32m'params:xgboost.booster'\u001b[0m,\n",
       "    \u001b[32m'params:xgboost.random_state'\u001b[0m,\n",
       "    \u001b[32m'params:xgboost.objective'\u001b[0m,\n",
       "    \u001b[32m'params:xgboost.base_score'\u001b[0m,\n",
       "    \u001b[32m'params:xgboost.verbosity'\u001b[0m,\n",
       "    \u001b[32m'params:xgboost.n_jobs'\u001b[0m,\n",
       "    \u001b[32m'params:xgboost.eval_metric'\u001b[0m,\n",
       "    \u001b[32m'params:xgboost.seed'\u001b[0m,\n",
       "    \u001b[32m'params:xgboost.early_stopping_rounds'\u001b[0m,\n",
       "    \u001b[32m'params:cutoffs'\u001b[0m,\n",
       "    \u001b[32m'params:permutation_importance'\u001b[0m,\n",
       "    \u001b[32m'params:permutation_importance.n_repeat'\u001b[0m,\n",
       "    \u001b[32m'params:permutation_importance.random_state'\u001b[0m,\n",
       "    \u001b[32m'params:lin_reg'\u001b[0m,\n",
       "    \u001b[32m'params:lin_reg.fit_intercept'\u001b[0m,\n",
       "    \u001b[32m'params:lin_reg.n_jobs'\u001b[0m,\n",
       "    \u001b[32m'params:ridge'\u001b[0m,\n",
       "    \u001b[32m'params:ridge.alpha'\u001b[0m,\n",
       "    \u001b[32m'params:ridge.fit_intercept'\u001b[0m,\n",
       "    \u001b[32m'params:ridge.solver'\u001b[0m,\n",
       "    \u001b[32m'params:ridge.random_state'\u001b[0m,\n",
       "    \u001b[32m'params:random_forest_reg'\u001b[0m,\n",
       "    \u001b[32m'params:random_forest_reg.n_estimators'\u001b[0m,\n",
       "    \u001b[32m'params:random_forest_reg.criterion'\u001b[0m,\n",
       "    \u001b[32m'params:random_forest_reg.max_depth'\u001b[0m,\n",
       "    \u001b[32m'params:random_forest_reg.min_samples_split'\u001b[0m,\n",
       "    \u001b[32m'params:random_forest_reg.min_samples_leaf'\u001b[0m,\n",
       "    \u001b[32m'params:random_forest_reg.n_jobs'\u001b[0m,\n",
       "    \u001b[32m'params:random_forest_reg.random_state'\u001b[0m,\n",
       "    \u001b[32m'params:xgboost_reg'\u001b[0m,\n",
       "    \u001b[32m'params:xgboost_reg.n_estimators'\u001b[0m,\n",
       "    \u001b[32m'params:xgboost_reg.max_depth'\u001b[0m,\n",
       "    \u001b[32m'params:xgboost_reg.learning_rate'\u001b[0m,\n",
       "    \u001b[32m'params:xgboost_reg.verbosity'\u001b[0m,\n",
       "    \u001b[32m'params:xgboost_reg.n_jobs'\u001b[0m,\n",
       "    \u001b[32m'params:xgboost_reg.random_state'\u001b[0m,\n",
       "    \u001b[32m'params:xgboost_reg.eval_metric'\u001b[0m,\n",
       "    \u001b[32m'params:lightgbm_reg'\u001b[0m,\n",
       "    \u001b[32m'params:lightgbm_reg.boosting'\u001b[0m,\n",
       "    \u001b[32m'params:lightgbm_reg.objective'\u001b[0m,\n",
       "    \u001b[32m'params:lightgbm_reg.num_leaves'\u001b[0m,\n",
       "    \u001b[32m'params:lightgbm_reg.metric'\u001b[0m,\n",
       "    \u001b[32m'params:lightgbm_reg.n_jobs'\u001b[0m\n",
       "\u001b[1m]\u001b[0m"
      ]
     },
     "execution_count": 2,
     "metadata": {},
     "output_type": "execute_result"
    }
   ],
   "source": [
    "catalog.list()"
   ]
  },
  {
   "cell_type": "markdown",
   "id": "e8088cd9-2d5f-4e20-9879-4c7b2bf0164b",
   "metadata": {},
   "source": [
    "# data for modeling"
   ]
  },
  {
   "cell_type": "code",
   "execution_count": 3,
   "id": "cfb517fc-0eda-4638-8454-6142c5e5c643",
   "metadata": {},
   "outputs": [
    {
     "data": {
      "text/html": [
       "<pre style=\"white-space:pre;overflow-x:auto;line-height:normal;font-family:Menlo,'DejaVu Sans Mono',consolas,'Courier New',monospace\"><span style=\"color: #7fbfbf; text-decoration-color: #7fbfbf\">[07/01/24 17:40:14] </span><span style=\"color: #000080; text-decoration-color: #000080\">INFO    </span> Loading data from <span style=\"color: #008000; text-decoration-color: #008000\">'model_data'</span> <span style=\"font-weight: bold\">(</span>ParquetDataSet<span style=\"font-weight: bold\">)</span><span style=\"color: #808000; text-decoration-color: #808000\">...</span>                 <a href=\"file:///Users/air/Desktop/master/venv/lib/python3.10/site-packages/kedro/io/data_catalog.py\" target=\"_blank\"><span style=\"color: #7f7f7f; text-decoration-color: #7f7f7f\">data_catalog.py</span></a><span style=\"color: #7f7f7f; text-decoration-color: #7f7f7f\">:</span><a href=\"file:///Users/air/Desktop/master/venv/lib/python3.10/site-packages/kedro/io/data_catalog.py#345\" target=\"_blank\"><span style=\"color: #7f7f7f; text-decoration-color: #7f7f7f\">345</span></a>\n",
       "</pre>\n"
      ],
      "text/plain": [
       "\u001b[2;36m[07/01/24 17:40:14]\u001b[0m\u001b[2;36m \u001b[0m\u001b[34mINFO    \u001b[0m Loading data from \u001b[32m'model_data'\u001b[0m \u001b[1m(\u001b[0mParquetDataSet\u001b[1m)\u001b[0m\u001b[33m...\u001b[0m                 \u001b]8;id=255496;file:///Users/air/Desktop/master/venv/lib/python3.10/site-packages/kedro/io/data_catalog.py\u001b\\\u001b[2mdata_catalog.py\u001b[0m\u001b]8;;\u001b\\\u001b[2m:\u001b[0m\u001b]8;id=359669;file:///Users/air/Desktop/master/venv/lib/python3.10/site-packages/kedro/io/data_catalog.py#345\u001b\\\u001b[2m345\u001b[0m\u001b]8;;\u001b\\\n"
      ]
     },
     "metadata": {},
     "output_type": "display_data"
    }
   ],
   "source": [
    "df = catalog.load(\"model_data\")"
   ]
  },
  {
   "cell_type": "code",
   "execution_count": 4,
   "id": "6c54bd70-5111-4adc-ba36-e8b25a027b2b",
   "metadata": {},
   "outputs": [
    {
     "data": {
      "text/html": [
       "<pre style=\"white-space:pre;overflow-x:auto;line-height:normal;font-family:Menlo,'DejaVu Sans Mono',consolas,'Courier New',monospace\"></pre>\n"
      ],
      "text/plain": []
     },
     "metadata": {},
     "output_type": "display_data"
    },
    {
     "data": {
      "text/html": [
       "<div>\n",
       "<style scoped>\n",
       "    .dataframe tbody tr th:only-of-type {\n",
       "        vertical-align: middle;\n",
       "    }\n",
       "\n",
       "    .dataframe tbody tr th {\n",
       "        vertical-align: top;\n",
       "    }\n",
       "\n",
       "    .dataframe thead th {\n",
       "        text-align: right;\n",
       "    }\n",
       "</style>\n",
       "<table border=\"1\" class=\"dataframe\">\n",
       "  <thead>\n",
       "    <tr style=\"text-align: right;\">\n",
       "      <th></th>\n",
       "      <th>node_id</th>\n",
       "      <th>target</th>\n",
       "      <th>participation</th>\n",
       "      <th>in_mod_deg</th>\n",
       "      <th>beta_star</th>\n",
       "      <th>edge_contr</th>\n",
       "      <th>cada</th>\n",
       "      <th>kl</th>\n",
       "      <th>l1</th>\n",
       "      <th>l2</th>\n",
       "      <th>...</th>\n",
       "      <th>emb_struc2vec_7</th>\n",
       "      <th>emb_struc2vec_8</th>\n",
       "      <th>emb_struc2vec_9</th>\n",
       "      <th>emb_struc2vec_10</th>\n",
       "      <th>emb_struc2vec_11</th>\n",
       "      <th>emb_struc2vec_12</th>\n",
       "      <th>emb_struc2vec_13</th>\n",
       "      <th>emb_struc2vec_14</th>\n",
       "      <th>emb_struc2vec_15</th>\n",
       "      <th>emb_struc2vec_16</th>\n",
       "    </tr>\n",
       "  </thead>\n",
       "  <tbody>\n",
       "    <tr>\n",
       "      <th>0</th>\n",
       "      <td>1.0</td>\n",
       "      <td>1.0</td>\n",
       "      <td>0.072612</td>\n",
       "      <td>5.115763</td>\n",
       "      <td>0.071551</td>\n",
       "      <td>0.161943</td>\n",
       "      <td>6.175000</td>\n",
       "      <td>0.081967</td>\n",
       "      <td>0.258551</td>\n",
       "      <td>0.100798</td>\n",
       "      <td>...</td>\n",
       "      <td>1.252981</td>\n",
       "      <td>-0.201068</td>\n",
       "      <td>-0.336538</td>\n",
       "      <td>0.012596</td>\n",
       "      <td>-0.096175</td>\n",
       "      <td>-0.384114</td>\n",
       "      <td>-0.339424</td>\n",
       "      <td>1.040823</td>\n",
       "      <td>1.576715</td>\n",
       "      <td>-0.831702</td>\n",
       "    </tr>\n",
       "    <tr>\n",
       "      <th>1</th>\n",
       "      <td>2.0</td>\n",
       "      <td>0.0</td>\n",
       "      <td>0.554606</td>\n",
       "      <td>14.985703</td>\n",
       "      <td>0.648982</td>\n",
       "      <td>0.740343</td>\n",
       "      <td>1.350725</td>\n",
       "      <td>1.288886</td>\n",
       "      <td>1.302687</td>\n",
       "      <td>0.669719</td>\n",
       "      <td>...</td>\n",
       "      <td>0.569123</td>\n",
       "      <td>-0.111647</td>\n",
       "      <td>-1.077309</td>\n",
       "      <td>-1.240022</td>\n",
       "      <td>-1.880506</td>\n",
       "      <td>-2.946799</td>\n",
       "      <td>0.622229</td>\n",
       "      <td>3.194421</td>\n",
       "      <td>2.400132</td>\n",
       "      <td>-5.099453</td>\n",
       "    </tr>\n",
       "    <tr>\n",
       "      <th>2</th>\n",
       "      <td>3.0</td>\n",
       "      <td>0.0</td>\n",
       "      <td>0.534563</td>\n",
       "      <td>19.956850</td>\n",
       "      <td>0.590207</td>\n",
       "      <td>0.726829</td>\n",
       "      <td>1.375839</td>\n",
       "      <td>0.928937</td>\n",
       "      <td>1.167859</td>\n",
       "      <td>0.598765</td>\n",
       "      <td>...</td>\n",
       "      <td>0.055023</td>\n",
       "      <td>-0.344346</td>\n",
       "      <td>-0.203380</td>\n",
       "      <td>-0.850847</td>\n",
       "      <td>-0.784466</td>\n",
       "      <td>-1.185653</td>\n",
       "      <td>0.275067</td>\n",
       "      <td>1.484416</td>\n",
       "      <td>0.812009</td>\n",
       "      <td>-1.199262</td>\n",
       "    </tr>\n",
       "    <tr>\n",
       "      <th>3</th>\n",
       "      <td>4.0</td>\n",
       "      <td>0.0</td>\n",
       "      <td>0.521714</td>\n",
       "      <td>14.515336</td>\n",
       "      <td>0.661506</td>\n",
       "      <td>0.717822</td>\n",
       "      <td>1.393103</td>\n",
       "      <td>1.522719</td>\n",
       "      <td>1.320244</td>\n",
       "      <td>0.680803</td>\n",
       "      <td>...</td>\n",
       "      <td>1.196288</td>\n",
       "      <td>-0.441536</td>\n",
       "      <td>0.004924</td>\n",
       "      <td>-1.117635</td>\n",
       "      <td>-0.584575</td>\n",
       "      <td>-2.286134</td>\n",
       "      <td>0.161008</td>\n",
       "      <td>2.113298</td>\n",
       "      <td>1.260582</td>\n",
       "      <td>-3.261761</td>\n",
       "    </tr>\n",
       "    <tr>\n",
       "      <th>4</th>\n",
       "      <td>5.0</td>\n",
       "      <td>0.0</td>\n",
       "      <td>0.508135</td>\n",
       "      <td>15.172029</td>\n",
       "      <td>0.677251</td>\n",
       "      <td>0.707379</td>\n",
       "      <td>1.413669</td>\n",
       "      <td>1.899161</td>\n",
       "      <td>1.348358</td>\n",
       "      <td>0.697884</td>\n",
       "      <td>...</td>\n",
       "      <td>-0.079072</td>\n",
       "      <td>-0.305973</td>\n",
       "      <td>-0.398559</td>\n",
       "      <td>-0.118108</td>\n",
       "      <td>-0.911685</td>\n",
       "      <td>-1.068272</td>\n",
       "      <td>-0.432617</td>\n",
       "      <td>1.602305</td>\n",
       "      <td>1.026133</td>\n",
       "      <td>-1.690707</td>\n",
       "    </tr>\n",
       "  </tbody>\n",
       "</table>\n",
       "<p>5 rows × 55 columns</p>\n",
       "</div>"
      ],
      "text/plain": [
       "\n",
       "   node_id  target  participation  in_mod_deg  beta_star  edge_contr  \\\n",
       "\u001b[1;36m0\u001b[0m      \u001b[1;36m1.0\u001b[0m     \u001b[1;36m1.0\u001b[0m       \u001b[1;36m0.072612\u001b[0m    \u001b[1;36m5.115763\u001b[0m   \u001b[1;36m0.071551\u001b[0m    \u001b[1;36m0.161943\u001b[0m   \n",
       "\u001b[1;36m1\u001b[0m      \u001b[1;36m2.0\u001b[0m     \u001b[1;36m0.0\u001b[0m       \u001b[1;36m0.554606\u001b[0m   \u001b[1;36m14.985703\u001b[0m   \u001b[1;36m0.648982\u001b[0m    \u001b[1;36m0.740343\u001b[0m   \n",
       "\u001b[1;36m2\u001b[0m      \u001b[1;36m3.0\u001b[0m     \u001b[1;36m0.0\u001b[0m       \u001b[1;36m0.534563\u001b[0m   \u001b[1;36m19.956850\u001b[0m   \u001b[1;36m0.590207\u001b[0m    \u001b[1;36m0.726829\u001b[0m   \n",
       "\u001b[1;36m3\u001b[0m      \u001b[1;36m4.0\u001b[0m     \u001b[1;36m0.0\u001b[0m       \u001b[1;36m0.521714\u001b[0m   \u001b[1;36m14.515336\u001b[0m   \u001b[1;36m0.661506\u001b[0m    \u001b[1;36m0.717822\u001b[0m   \n",
       "\u001b[1;36m4\u001b[0m      \u001b[1;36m5.0\u001b[0m     \u001b[1;36m0.0\u001b[0m       \u001b[1;36m0.508135\u001b[0m   \u001b[1;36m15.172029\u001b[0m   \u001b[1;36m0.677251\u001b[0m    \u001b[1;36m0.707379\u001b[0m   \n",
       "\n",
       "       cada        kl        l1        l2  \u001b[33m...\u001b[0m  emb_struc2vec_7  \\\n",
       "\u001b[1;36m0\u001b[0m  \u001b[1;36m6.175000\u001b[0m  \u001b[1;36m0.081967\u001b[0m  \u001b[1;36m0.258551\u001b[0m  \u001b[1;36m0.100798\u001b[0m  \u001b[33m...\u001b[0m         \u001b[1;36m1.252981\u001b[0m   \n",
       "\u001b[1;36m1\u001b[0m  \u001b[1;36m1.350725\u001b[0m  \u001b[1;36m1.288886\u001b[0m  \u001b[1;36m1.302687\u001b[0m  \u001b[1;36m0.669719\u001b[0m  \u001b[33m...\u001b[0m         \u001b[1;36m0.569123\u001b[0m   \n",
       "\u001b[1;36m2\u001b[0m  \u001b[1;36m1.375839\u001b[0m  \u001b[1;36m0.928937\u001b[0m  \u001b[1;36m1.167859\u001b[0m  \u001b[1;36m0.598765\u001b[0m  \u001b[33m...\u001b[0m         \u001b[1;36m0.055023\u001b[0m   \n",
       "\u001b[1;36m3\u001b[0m  \u001b[1;36m1.393103\u001b[0m  \u001b[1;36m1.522719\u001b[0m  \u001b[1;36m1.320244\u001b[0m  \u001b[1;36m0.680803\u001b[0m  \u001b[33m...\u001b[0m         \u001b[1;36m1.196288\u001b[0m   \n",
       "\u001b[1;36m4\u001b[0m  \u001b[1;36m1.413669\u001b[0m  \u001b[1;36m1.899161\u001b[0m  \u001b[1;36m1.348358\u001b[0m  \u001b[1;36m0.697884\u001b[0m  \u001b[33m...\u001b[0m        \u001b[1;36m-0.079072\u001b[0m   \n",
       "\n",
       "   emb_struc2vec_8  emb_struc2vec_9  emb_struc2vec_10  emb_struc2vec_11  \\\n",
       "\u001b[1;36m0\u001b[0m        \u001b[1;36m-0.201068\u001b[0m        \u001b[1;36m-0.336538\u001b[0m          \u001b[1;36m0.012596\u001b[0m         \u001b[1;36m-0.096175\u001b[0m   \n",
       "\u001b[1;36m1\u001b[0m        \u001b[1;36m-0.111647\u001b[0m        \u001b[1;36m-1.077309\u001b[0m         \u001b[1;36m-1.240022\u001b[0m         \u001b[1;36m-1.880506\u001b[0m   \n",
       "\u001b[1;36m2\u001b[0m        \u001b[1;36m-0.344346\u001b[0m        \u001b[1;36m-0.203380\u001b[0m         \u001b[1;36m-0.850847\u001b[0m         \u001b[1;36m-0.784466\u001b[0m   \n",
       "\u001b[1;36m3\u001b[0m        \u001b[1;36m-0.441536\u001b[0m         \u001b[1;36m0.004924\u001b[0m         \u001b[1;36m-1.117635\u001b[0m         \u001b[1;36m-0.584575\u001b[0m   \n",
       "\u001b[1;36m4\u001b[0m        \u001b[1;36m-0.305973\u001b[0m        \u001b[1;36m-0.398559\u001b[0m         \u001b[1;36m-0.118108\u001b[0m         \u001b[1;36m-0.911685\u001b[0m   \n",
       "\n",
       "   emb_struc2vec_12  emb_struc2vec_13  emb_struc2vec_14  emb_struc2vec_15  \\\n",
       "\u001b[1;36m0\u001b[0m         \u001b[1;36m-0.384114\u001b[0m         \u001b[1;36m-0.339424\u001b[0m          \u001b[1;36m1.040823\u001b[0m          \u001b[1;36m1.576715\u001b[0m   \n",
       "\u001b[1;36m1\u001b[0m         \u001b[1;36m-2.946799\u001b[0m          \u001b[1;36m0.622229\u001b[0m          \u001b[1;36m3.194421\u001b[0m          \u001b[1;36m2.400132\u001b[0m   \n",
       "\u001b[1;36m2\u001b[0m         \u001b[1;36m-1.185653\u001b[0m          \u001b[1;36m0.275067\u001b[0m          \u001b[1;36m1.484416\u001b[0m          \u001b[1;36m0.812009\u001b[0m   \n",
       "\u001b[1;36m3\u001b[0m         \u001b[1;36m-2.286134\u001b[0m          \u001b[1;36m0.161008\u001b[0m          \u001b[1;36m2.113298\u001b[0m          \u001b[1;36m1.260582\u001b[0m   \n",
       "\u001b[1;36m4\u001b[0m         \u001b[1;36m-1.068272\u001b[0m         \u001b[1;36m-0.432617\u001b[0m          \u001b[1;36m1.602305\u001b[0m          \u001b[1;36m1.026133\u001b[0m   \n",
       "\n",
       "   emb_struc2vec_16  \n",
       "\u001b[1;36m0\u001b[0m         \u001b[1;36m-0.831702\u001b[0m  \n",
       "\u001b[1;36m1\u001b[0m         \u001b[1;36m-5.099453\u001b[0m  \n",
       "\u001b[1;36m2\u001b[0m         \u001b[1;36m-1.199262\u001b[0m  \n",
       "\u001b[1;36m3\u001b[0m         \u001b[1;36m-3.261761\u001b[0m  \n",
       "\u001b[1;36m4\u001b[0m         \u001b[1;36m-1.690707\u001b[0m  \n",
       "\n",
       "\u001b[1m[\u001b[0m\u001b[1;36m5\u001b[0m rows x \u001b[1;36m55\u001b[0m columns\u001b[1m]\u001b[0m"
      ]
     },
     "execution_count": 4,
     "metadata": {},
     "output_type": "execute_result"
    }
   ],
   "source": [
    "df.head()"
   ]
  },
  {
   "cell_type": "markdown",
   "id": "4f28d149-2819-4fb2-8a9e-253113ca428d",
   "metadata": {},
   "source": [
    "# Task 1 results"
   ]
  },
  {
   "cell_type": "code",
   "execution_count": null,
   "id": "7b16e7c6-d8c0-4adf-8e49-f699822ddf66",
   "metadata": {},
   "outputs": [],
   "source": [
    "task1 = catalog.load(\"task1_results\")"
   ]
  },
  {
   "cell_type": "code",
   "execution_count": null,
   "id": "27379e29-1dd3-48c2-af13-15da44a96755",
   "metadata": {},
   "outputs": [],
   "source": [
    "task1.head()"
   ]
  },
  {
   "cell_type": "markdown",
   "id": "1286ce05-ada7-4aad-a4c0-d0d3b0332984",
   "metadata": {},
   "source": [
    "# Task 2 results"
   ]
  },
  {
   "cell_type": "code",
   "execution_count": null,
   "id": "952002eb-af11-4699-aa86-44083b213ce5",
   "metadata": {},
   "outputs": [],
   "source": [
    "task2 = catalog.load(\"task2_results\")"
   ]
  },
  {
   "cell_type": "code",
   "execution_count": null,
   "id": "73b577c8-e96d-4fc9-a978-6b73e5e4bf45",
   "metadata": {},
   "outputs": [],
   "source": [
    "task2.head()"
   ]
  },
  {
   "cell_type": "code",
   "execution_count": null,
   "id": "b4b9e889-ee12-4848-84b8-8801f2fc5162",
   "metadata": {},
   "outputs": [],
   "source": [
    "task2[ task2['features']=='beta_star' ]"
   ]
  },
  {
   "cell_type": "code",
   "execution_count": null,
   "id": "9635278f-7a55-45cb-be65-258b144eb871",
   "metadata": {},
   "outputs": [],
   "source": [
    "task3 = catalog.load(\"models_results_pi\")"
   ]
  },
  {
   "cell_type": "code",
   "execution_count": null,
   "id": "f9ba6a48-3aff-4c75-8cb9-292ad05cbc58",
   "metadata": {},
   "outputs": [],
   "source": [
    "!pip install matplotlib seaborn -q"
   ]
  },
  {
   "cell_type": "code",
   "execution_count": null,
   "id": "32156f7f-ae62-4404-af26-b4794c8d6f48",
   "metadata": {},
   "outputs": [],
   "source": [
    "task3"
   ]
  },
  {
   "cell_type": "code",
   "execution_count": null,
   "id": "efd24dd9-7ed0-4dfe-a2a1-60767c25912f",
   "metadata": {},
   "outputs": [],
   "source": [
    "import matplotlib.pyplot as plt\n",
    "import seaborn as sns\n",
    "\n",
    "n_cols = len(task3)\n",
    "plt.figure(figsize=[14,5])\n",
    "plt.axhline(0, c='black')\n",
    "[plt.axvline(i + 0.5, linestyle='--', c='black') for i in range(0, n_cols)]\n",
    "sns.barplot(x=task3['variable'], y=task3['value'], hue=task3['model_name'])\n",
    "plt.xticks(rotation = 90)\n",
    "plt.title(\"Permutation Feature Importance\")\n",
    "plt.xlabel(\"Variable Name\")\n",
    "plt.ylabel(\"Change in Average Precision\")"
   ]
  }
 ],
 "metadata": {
  "kernelspec": {
   "display_name": "Kedro (betastar)",
   "language": "python",
   "name": "kedro_betastar"
  },
  "language_info": {
   "codemirror_mode": {
    "name": "ipython",
    "version": 3
   },
   "file_extension": ".py",
   "mimetype": "text/x-python",
   "name": "python",
   "nbconvert_exporter": "python",
   "pygments_lexer": "ipython3",
   "version": "3.10.14"
  }
 },
 "nbformat": 4,
 "nbformat_minor": 5
}
